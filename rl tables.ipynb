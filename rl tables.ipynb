{
 "cells": [
  {
   "cell_type": "code",
   "execution_count": 9,
   "id": "2e0d8d2f",
   "metadata": {},
   "outputs": [],
   "source": [
    "from typing import Tuple, Dict, Callable, Iterator, Union, Optional, List\n",
    "import numpy as np\n",
    "import torch\n",
    "from torch import Tensor"
   ]
  },
  {
   "cell_type": "code",
   "execution_count": 10,
   "id": "3dc73ea4",
   "metadata": {},
   "outputs": [],
   "source": [
    "interpolated_rewards_swimmer_bga = torch.load('./experiments/rl_experiments/swimmer/bga/interpolated_rewards.pt')\n",
    "interpolated_rewards_swimmer_rs = torch.load('./experiments/rl_experiments/swimmer/rs/interpolated_rewards.pt')\n",
    "\n",
    "interpolated_rewards_hopper_bga = torch.load('./experiments/rl_experiments/hopper/bga/interpolated_rewards.pt')\n",
    "interpolated_rewards_hopper_rs = torch.load('./experiments/rl_experiments/hopper/rs/interpolated_rewards.pt')"
   ]
  },
  {
   "cell_type": "code",
   "execution_count": 11,
   "id": "61010b5f",
   "metadata": {},
   "outputs": [],
   "source": [
    "timesteps_to_reward_swimmer_bga = np.load('./experiments/rl_experiments/swimmer/bga/timesteps_to_reward.npy', allow_pickle=True).item()\n",
    "timesteps_to_reward_swimmer_rs = np.load('./experiments/rl_experiments/swimmer/rs/timesteps_to_reward.npy', allow_pickle=True).item()\n",
    "\n",
    "timesteps_to_reward_hopper_bga = np.load('./experiments/rl_experiments/hopper/bga/timesteps_to_reward.npy', allow_pickle=True).item()\n",
    "timesteps_to_reward_hopper_rs = np.load('./experiments/rl_experiments/hopper/rs/timesteps_to_reward.npy', allow_pickle=True).item()"
   ]
  },
  {
   "cell_type": "code",
   "execution_count": 12,
   "id": "1ccd9a2b",
   "metadata": {},
   "outputs": [],
   "source": [
    "def average_episodes_reward_threshold(interpolated_rewards: Tensor, \n",
    "                                      reward_threshold: Union[int, float]):\n",
    "    runs = interpolated_rewards.shape[0]\n",
    "    threshold_episodes = []\n",
    "    mean_rewards = torch.mean(interpolated_rewards, dim=0)\n",
    "    threshold_reward = [i for i,n in enumerate(mean_rewards) if n>reward_threshold]\n",
    "    if threshold_reward:\n",
    "        return threshold_reward[0]\n",
    "    else:\n",
    "        return print('Threshold value was not reached.')"
   ]
  },
  {
   "cell_type": "code",
   "execution_count": 13,
   "id": "4556e63f",
   "metadata": {},
   "outputs": [],
   "source": [
    "def average_timesteps_reward_threshold(timesteps_to_reward: Dict[int, Tensor], \n",
    "                                       reward_threshold: Union[int, float]):\n",
    "    threshold_timesteps = []\n",
    "    for run in timesteps_to_reward.keys():\n",
    "        timesteps = [k for k,v in timesteps_to_reward[run].items() if v>reward_threshold]\n",
    "        if timesteps:\n",
    "            threshold_timesteps.append(timesteps[0])\n",
    "        else:\n",
    "            print('One run did not reach threshold.')\n",
    "            break\n",
    "    return np.array(threshold_timesteps).mean()"
   ]
  },
  {
   "cell_type": "code",
   "execution_count": 14,
   "id": "59fd8ee5",
   "metadata": {},
   "outputs": [],
   "source": [
    "def max_reward_timestepd_threshold(timesteps_to_reward: Dict[int, Tensor], \n",
    "                                   timesteps_threshold: int):\n",
    "    threshold_reward = []\n",
    "    for run in timesteps_to_reward.keys():\n",
    "        rewards = [v for k,v in timesteps_to_reward[run].items() if k>timesteps_threshold]\n",
    "        threshold_reward.append(rewards[0].item())\n",
    "    return np.array(threshold_reward).mean()"
   ]
  },
  {
   "cell_type": "code",
   "execution_count": 15,
   "id": "c1412fc3",
   "metadata": {},
   "outputs": [
    {
     "data": {
      "text/plain": [
       "536"
      ]
     },
     "execution_count": 15,
     "metadata": {},
     "output_type": "execute_result"
    }
   ],
   "source": [
    "average_episodes_reward_threshold(interpolated_rewards=interpolated_rewards_swimmer_bga, \n",
    "                                  reward_threshold=325)"
   ]
  },
  {
   "cell_type": "code",
   "execution_count": 16,
   "id": "67f5e210",
   "metadata": {},
   "outputs": [
    {
     "name": "stdout",
     "output_type": "stream",
     "text": [
      "Threshold value was not reached.\n"
     ]
    }
   ],
   "source": [
    "average_episodes_reward_threshold(interpolated_rewards=interpolated_rewards_swimmer_rs, \n",
    "                                  reward_threshold=325)"
   ]
  },
  {
   "cell_type": "code",
   "execution_count": 17,
   "id": "e39dd418",
   "metadata": {},
   "outputs": [
    {
     "name": "stdout",
     "output_type": "stream",
     "text": [
      "Threshold value was not reached.\n"
     ]
    }
   ],
   "source": [
    "average_episodes_reward_threshold(interpolated_rewards=interpolated_rewards_hopper_rs, \n",
    "                                  reward_threshold=3120)"
   ]
  },
  {
   "cell_type": "code",
   "execution_count": 18,
   "id": "4d8d7213",
   "metadata": {},
   "outputs": [
    {
     "data": {
      "text/plain": [
       "tensor(3119.3701)"
      ]
     },
     "execution_count": 18,
     "metadata": {},
     "output_type": "execute_result"
    }
   ],
   "source": [
    "torch.mean(interpolated_rewards_hopper_rs, dim=0).max()"
   ]
  },
  {
   "cell_type": "code",
   "execution_count": 19,
   "id": "0a37ded7",
   "metadata": {},
   "outputs": [
    {
     "name": "stdout",
     "output_type": "stream",
     "text": [
      "One run did not reach threshold.\n"
     ]
    },
    {
     "name": "stderr",
     "output_type": "stream",
     "text": [
      "<ipython-input-13-8f2fda8d70ce>:11: RuntimeWarning: Mean of empty slice.\n",
      "  return np.array(threshold_timesteps).mean()\n",
      "/home/sarah/miniconda3/envs/bga/lib/python3.8/site-packages/numpy/core/_methods.py:170: RuntimeWarning: invalid value encountered in double_scalars\n",
      "  ret = ret.dtype.type(ret / rcount)\n"
     ]
    },
    {
     "data": {
      "text/plain": [
       "nan"
      ]
     },
     "execution_count": 19,
     "metadata": {},
     "output_type": "execute_result"
    }
   ],
   "source": [
    "average_timesteps_reward_threshold(timesteps_to_reward=timesteps_to_reward_hopper_bga, \n",
    "                                   reward_threshold=3403.46)"
   ]
  },
  {
   "cell_type": "code",
   "execution_count": 20,
   "id": "b4611de8",
   "metadata": {},
   "outputs": [
    {
     "data": {
      "text/plain": [
       "2706.9559733072915"
      ]
     },
     "execution_count": 20,
     "metadata": {},
     "output_type": "execute_result"
    }
   ],
   "source": [
    "max_reward_timestepd_threshold(timesteps_to_reward_hopper_rs, 2*10**6)"
   ]
  },
  {
   "cell_type": "code",
   "execution_count": 21,
   "id": "3ca7d3b0",
   "metadata": {},
   "outputs": [
    {
     "data": {
      "text/plain": [
       "2556.896769205729"
      ]
     },
     "execution_count": 21,
     "metadata": {},
     "output_type": "execute_result"
    }
   ],
   "source": [
    "max_reward_timestepd_threshold(timesteps_to_reward_hopper_bga, 2*10**6)"
   ]
  },
  {
   "cell_type": "code",
   "execution_count": null,
   "id": "22b5707c",
   "metadata": {},
   "outputs": [],
   "source": []
  }
 ],
 "metadata": {
  "kernelspec": {
   "display_name": "Python [conda env:bga] *",
   "language": "python",
   "name": "conda-env-bga-py"
  },
  "language_info": {
   "codemirror_mode": {
    "name": "ipython",
    "version": 3
   },
   "file_extension": ".py",
   "mimetype": "text/x-python",
   "name": "python",
   "nbconvert_exporter": "python",
   "pygments_lexer": "ipython3",
   "version": "3.8.5"
  }
 },
 "nbformat": 4,
 "nbformat_minor": 5
}
