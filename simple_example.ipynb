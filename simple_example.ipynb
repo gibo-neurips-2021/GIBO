{
 "cells": [
  {
   "cell_type": "code",
   "execution_count": 1,
   "metadata": {},
   "outputs": [],
   "source": [
    "import numpy as np\n",
    "import torch\n",
    "\n",
    "import gpytorch\n",
    "import botorch\n",
    "\n",
    "from src.model import DerivativeExactGPSEModel\n",
    "\n",
    "import matplotlib.pyplot as plt\n",
    "%config Completer.use_jedi = False"
   ]
  },
  {
   "cell_type": "code",
   "execution_count": 2,
   "metadata": {},
   "outputs": [],
   "source": [
    "objective_function = lambda x: -x**2 + (5*torch.sin(x*10/np.pi))\n",
    "derivative_objective_func = lambda x: -2*x + 5*10/np.pi *np.cos(x*10/np.pi)"
   ]
  },
  {
   "cell_type": "code",
   "execution_count": 3,
   "metadata": {},
   "outputs": [],
   "source": [
    "NOISE_SE = 0.25\n",
    "train_x = 4 * torch.rand(5,1) - 2 \n",
    "exact_obj = objective_function(train_x)\n",
    "train_y = exact_obj + NOISE_SE * torch.randn_like(exact_obj)\n",
    "test_x = torch.linspace(-2, 2)"
   ]
  },
  {
   "cell_type": "code",
   "execution_count": 4,
   "metadata": {},
   "outputs": [],
   "source": [
    "model = DerivativeExactGPSEModel(D=1, N_max=None)\n",
    "model.append_train_data(train_x, train_y.squeeze())\n",
    "# freeze hyperparameters\n",
    "model.covar_module.base_kernel.lengthscale = 0.6\n",
    "model.covar_module.outputscale = 24.\n",
    "model.likelihood.noise = NOISE_SE"
   ]
  },
  {
   "cell_type": "code",
   "execution_count": 5,
   "metadata": {},
   "outputs": [],
   "source": [
    "tex_fonts = {\n",
    "    # Use LaTeX to write all text\n",
    "    \"text.usetex\": True,\n",
    "    \"font.family\": \"serif\",\n",
    "    # Use 10pt font in plots, to match 10pt font in document\n",
    "    \"axes.labelsize\": 8,\n",
    "    \"font.size\": 8,\n",
    "    # Make the legend/label fonts a little smaller\n",
    "    \"legend.fontsize\": 6,\n",
    "    \"xtick.labelsize\": 6,\n",
    "    \"ytick.labelsize\": 6\n",
    "}\n",
    "\n",
    "plt.rcParams.update(tex_fonts)\n",
    "#plt.style.use('seaborn-white')"
   ]
  },
  {
   "cell_type": "code",
   "execution_count": 9,
   "metadata": {},
   "outputs": [],
   "source": [
    "import matplotlib as mpl\n",
    "mpl.rcParams['lines.linewidth'] = 0.5"
   ]
  },
  {
   "cell_type": "code",
   "execution_count": 13,
   "metadata": {},
   "outputs": [
    {
     "data": {
      "image/png": "[encoded data removed]",
      "text/plain": [
       "<Figure size 216x144 with 2 Axes>"
      ]
     },
     "metadata": {
      "needs_background": "light"
     },
     "output_type": "display_data"
    }
   ],
   "source": [
    "with torch.no_grad():\n",
    "    fig, axs = plt.subplots(2, figsize=(3, 2), sharex=True)\n",
    "    axs[0].plot(test_x, objective_function(test_x), 'gray',linestyle='--', label='Objective')\n",
    "    axs[0].plot(model.train_inputs[0], model.train_targets, 'kx', markersize=3.5, label='Observed Data') \n",
    "    axs[1].plot(test_x, derivative_objective_func(test_x), 'gray', linestyle='--', label='Analytic Derivative')\n",
    "    # Posterior of GP.\n",
    "    posterior = model.posterior(test_x, observation_noise=True)\n",
    "    lower, upper = posterior.mvn.confidence_region()\n",
    "    axs[0].plot(test_x, posterior.mean, color='darkorange', label='Mean')\n",
    "    axs[0].fill_between(test_x, lower, upper, color='darkorange', alpha=0.3, label='Confidence')\n",
    "    # Posterior of derivative GP.\n",
    "    mean_d, variance_d = model.posterior_derivative(test_x)\n",
    "    mean_d, variance_d = mean_d.squeeze(), variance_d.squeeze()\n",
    "    posterior_d = gpytorch.distributions.MultivariateNormal(mean_d, \n",
    "                                                            torch.eye(variance_d.shape[0]) * variance_d)\n",
    "    lower_d, upper_d = posterior_d.confidence_region()\n",
    "    axs[1].plot(test_x, mean_d, color='#1f77b4', label='Mean')\n",
    "    axs[1].fill_between(test_x, lower_d, upper_d, color='#1f77b4', alpha=0.3, label='Confidence')\n",
    "    # Labels.\n",
    "    #axs[0].set_xlabel(r'$\\theta$')\n",
    "    axs[0].set_ylabel(r'$J(\\theta)$', rotation=0, labelpad=10)\n",
    "    axs[1].set_xlabel(r'$\\theta$')\n",
    "    axs[1].set_ylabel(r'$\\nabla_\\theta J$', rotation=0, labelpad=10)\n",
    "    axs[0].margins(x=0)\n",
    "    axs[1].margins(x=0)\n",
    "    #fig.legend(loc='upper center', bbox_to_anchor=(0.52, 1.3), ncol=2)\n",
    "    plt.savefig('/home/sarah/Downloads/test2.pdf', bbox_inches='tight')"
   ]
  },
  {
   "cell_type": "code",
   "execution_count": null,
   "metadata": {},
   "outputs": [],
   "source": []
  },
  {
   "cell_type": "code",
   "execution_count": null,
   "metadata": {},
   "outputs": [],
   "source": []
  }
 ],
 "metadata": {
  "kernelspec": {
   "display_name": "Python [conda env:bga] *",
   "language": "python",
   "name": "conda-env-bga-py"
  },
  "language_info": {
   "codemirror_mode": {
    "name": "ipython",
    "version": 3
   },
   "file_extension": ".py",
   "mimetype": "text/x-python",
   "name": "python",
   "nbconvert_exporter": "python",
   "pygments_lexer": "ipython3",
   "version": "3.8.5"
  }
 },
 "nbformat": 4,
 "nbformat_minor": 4
}
